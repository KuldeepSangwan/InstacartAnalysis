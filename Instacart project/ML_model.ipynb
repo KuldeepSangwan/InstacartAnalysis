{
 "cells": [
  {
   "cell_type": "markdown",
   "metadata": {},
   "source": [
    "<div class=WordSection1>\n",
    "\n",
    "<p class=MsoNormal style='margin-top:2.0pt;margin-right:0in;margin-bottom:4.8pt;\n",
    "margin-left:0in'><b><u><span style='font-size:14.0pt;line-height:107%'>How the\n",
    "problem is unfolding</span></u></b></p>\n",
    "\n",
    "<p class=MsoNormal style='margin-top:2.0pt;margin-right:0in;margin-bottom:4.8pt;\n",
    "margin-left:0in'>(I will try to give a short description of whatever we have\n",
    "done up to now)</p>\n",
    "\n",
    "<p class=MsoNormal style='margin-top:2.0pt;margin-right:0in;margin-bottom:4.8pt;\n",
    "margin-left:0in'>As our data is stored as relational type data in different\n",
    "tables. For the ML problem we need to get the data as order_id, product_id (in\n",
    "product_id we would only be having the products that the user has bought before)\n",
    "and the different features for user, products etc. </p>\n",
    "\n",
    "<p class=MsoNormal style='margin-top:2.0pt;margin-right:0in;margin-bottom:4.8pt;\n",
    "margin-left:0in'>We did EDA to understand our data and what features we can\n",
    "deduce for it. We can use some of the features direct from the tables like\n",
    "order_number, order_dow etc. but for most of the other features we need to\n",
    "deduce them for example (from the EDA) –</p>\n",
    "\n",
    "<p class=MsoListParagraphCxSpFirst style='margin-top:2.0pt;margin-right:0in;\n",
    "margin-bottom:4.8pt;margin-left:.5in;text-indent:-.25in'><span\n",
    "style='font-family:Symbol'>·<span style='font:7.0pt \"Times New Roman\"'>&nbsp;&nbsp;&nbsp;&nbsp;&nbsp;&nbsp;&nbsp;&nbsp;\n",
    "</span></span>We used product_id and order_id to get most ordered products</p>\n",
    "\n",
    "<p class=MsoListParagraphCxSpMiddle style='margin-top:2.0pt;margin-right:0in;\n",
    "margin-bottom:4.8pt;margin-left:.5in;text-indent:-.25in'><span\n",
    "style='font-family:Symbol'>·<span style='font:7.0pt \"Times New Roman\"'>&nbsp;&nbsp;&nbsp;&nbsp;&nbsp;&nbsp;&nbsp;&nbsp;\n",
    "</span></span>Order_dow and order_id to get what day of the week people order\n",
    "mostly</p>\n",
    "\n",
    "<p class=MsoListParagraphCxSpMiddle style='margin-top:2.0pt;margin-right:0in;\n",
    "margin-bottom:4.8pt;margin-left:.5in;text-indent:-.25in'><span\n",
    "style='font-family:Symbol'>·<span style='font:7.0pt \"Times New Roman\"'>&nbsp;&nbsp;&nbsp;&nbsp;&nbsp;&nbsp;&nbsp;&nbsp;\n",
    "</span></span>order_hour_of_day and order_id to get What Time people order mostly</p>\n",
    "\n",
    "<p class=MsoListParagraphCxSpMiddle style='margin-top:2.0pt;margin-right:0in;\n",
    "margin-bottom:4.8pt;margin-left:.5in;text-indent:-.25in'><span\n",
    "style='font-family:Symbol'>·<span style='font:7.0pt \"Times New Roman\"'>&nbsp;&nbsp;&nbsp;&nbsp;&nbsp;&nbsp;&nbsp;&nbsp;\n",
    "</span></span> days_since_prior_order to get After how many days people order\n",
    "again </p>\n",
    "\n",
    "<p class=MsoListParagraphCxSpMiddle style='margin-top:2.0pt;margin-right:0in;\n",
    "margin-bottom:4.8pt;margin-left:0in'>&nbsp;</p>\n",
    "\n",
    "<p class=MsoListParagraphCxSpMiddle style='margin-top:2.0pt;margin-right:0in;\n",
    "margin-bottom:4.8pt;margin-left:0in'>So, the idea for feature engineering is we\n",
    "can use every feature that we have in different tables as order feature or\n",
    "product related feature to get different other features.</p>\n",
    "\n",
    "<p class=MsoListParagraphCxSpMiddle style='margin-top:2.0pt;margin-right:0in;\n",
    "margin-bottom:4.8pt;margin-left:0in'>&nbsp;</p>\n",
    "\n",
    "<p class=MsoListParagraphCxSpMiddle style='margin-top:2.0pt;margin-right:0in;\n",
    "margin-bottom:4.8pt;margin-left:0in'><b>Note</b> – for getting the features for\n",
    "training and testing, we need to use our prior data as to get the features So we\n",
    "would get features likes say user related or product related then we take all\n",
    "these features and merge with train orders.</p>\n",
    "\n",
    "<p class=MsoListParagraphCxSpMiddle style='margin-top:2.0pt;margin-right:0in;\n",
    "margin-bottom:4.8pt;margin-left:0in'>&nbsp;</p>\n",
    "\n",
    "<p class=MsoListParagraphCxSpMiddle style='margin-top:2.0pt;margin-right:0in;\n",
    "margin-bottom:4.8pt;margin-left:0in'><b><span style='font-size:12.0pt;\n",
    "line-height:107%'>Feature Engineering</span></b> – the basic idea here for\n",
    "feature engineering is we need to deduce features related to features that are already\n",
    "provided to us in the tables. So how I deduced the features-</p>\n",
    "\n",
    "<p class=MsoListParagraphCxSpMiddle style='margin-top:2.0pt;margin-right:0in;\n",
    "margin-bottom:4.8pt;margin-left:38.25pt;text-indent:-.25in'><span\n",
    "style='font-family:Symbol'>·<span style='font:7.0pt \"Times New Roman\"'>&nbsp;&nbsp;&nbsp;&nbsp;&nbsp;&nbsp;&nbsp;&nbsp;\n",
    "</span></span>user_id , product_id and days_since_prior_order <b>(user and\n",
    "product based features)</b>  to get features like days before a particular\n",
    "product is ordered. Feature – </p>\n",
    "\n",
    "<p class=MsoListParagraphCxSpMiddle style='margin-top:2.0pt;margin-right:0in;\n",
    "margin-bottom:4.8pt;margin-left:74.25pt;text-indent:-.25in'><span\n",
    "style='font-family:Wingdings'>Ø<span style='font:7.0pt \"Times New Roman\"'>&nbsp;\n",
    "</span></span>days_before_product_ordered-1, </p>\n",
    "\n",
    "<p class=MsoListParagraphCxSpMiddle style='margin-top:2.0pt;margin-right:0in;\n",
    "margin-bottom:4.8pt;margin-left:74.25pt;text-indent:-.25in'><span\n",
    "style='font-family:Wingdings'>Ø<span style='font:7.0pt \"Times New Roman\"'>&nbsp;\n",
    "</span></span>days_before_product_ordered-2, </p>\n",
    "\n",
    "<p class=MsoListParagraphCxSpMiddle style='margin-top:2.0pt;margin-right:0in;\n",
    "margin-bottom:4.8pt;margin-left:74.25pt;text-indent:-.25in'><span\n",
    "style='font-family:Wingdings'>Ø<span style='font:7.0pt \"Times New Roman\"'>&nbsp;\n",
    "</span></span>days_before_product_ordered-3, </p>\n",
    "\n",
    "<p class=MsoListParagraphCxSpMiddle style='margin-top:2.0pt;margin-right:0in;\n",
    "margin-bottom:4.8pt;margin-left:74.25pt;text-indent:-.25in'><span\n",
    "style='font-family:Wingdings'>Ø<span style='font:7.0pt \"Times New Roman\"'>&nbsp;\n",
    "</span></span>days_before_product_ordered-4, </p>\n",
    "\n",
    "<p class=MsoListParagraphCxSpMiddle style='margin-top:2.0pt;margin-right:0in;\n",
    "margin-bottom:4.8pt;margin-left:74.25pt;text-indent:-.25in'><span\n",
    "style='font-family:Wingdings'>Ø<span style='font:7.0pt \"Times New Roman\"'>&nbsp;\n",
    "</span></span>days_before_product_ordered_mean, </p>\n",
    "\n",
    "<p class=MsoListParagraphCxSpMiddle style='margin-top:2.0pt;margin-right:0in;\n",
    "margin-bottom:4.8pt;margin-left:74.25pt;text-indent:-.25in'><span\n",
    "style='font-family:Wingdings'>Ø<span style='font:7.0pt \"Times New Roman\"'>&nbsp;\n",
    "</span></span>days_before_product_ordered_median) </p>\n",
    "\n",
    "<p class=MsoListParagraphCxSpMiddle style='margin-top:2.0pt;margin-right:0in;\n",
    "margin-bottom:4.8pt;margin-left:74.25pt'>1, 2… here means days before the\n",
    "product ordered last or days before the product ordered last to last so on.</p>\n",
    "\n",
    "<p class=MsoListParagraphCxSpMiddle style='margin-top:2.0pt;margin-right:0in;\n",
    "margin-bottom:4.8pt;margin-left:38.25pt;text-indent:-.25in'><span\n",
    "style='font-family:Symbol'>·<span style='font:7.0pt \"Times New Roman\"'>&nbsp;&nbsp;&nbsp;&nbsp;&nbsp;&nbsp;&nbsp;&nbsp;\n",
    "</span></span>user_id and Department, user_id and aisle <b>(user and product-based\n",
    "features)</b> to get features like </p>\n",
    "\n",
    "<p class=MsoListParagraphCxSpMiddle style='margin-top:2.0pt;margin-right:0in;\n",
    "margin-bottom:4.8pt;margin-left:74.25pt;text-indent:-.25in'><span\n",
    "style='font-family:Wingdings'>Ø<span style='font:7.0pt \"Times New Roman\"'>&nbsp;\n",
    "</span></span>unique_prod_in_department, number of unique products for the user\n",
    "in that department.</p>\n",
    "\n",
    "<p class=MsoListParagraphCxSpMiddle style='margin-top:2.0pt;margin-right:0in;\n",
    "margin-bottom:4.8pt;margin-left:74.25pt;text-indent:-.25in'><span\n",
    "style='font-family:Wingdings'>Ø<span style='font:7.0pt \"Times New Roman\"'>&nbsp;\n",
    "</span></span>department_product_reordered, number of products reordered in\n",
    "that department for the particular user.</p>\n",
    "\n",
    "<p class=MsoListParagraphCxSpMiddle style='margin-top:2.0pt;margin-right:0in;\n",
    "margin-bottom:4.8pt;margin-left:74.25pt;text-indent:-.25in'><span\n",
    "style='font-family:Wingdings'>Ø<span style='font:7.0pt \"Times New Roman\"'>&nbsp;\n",
    "</span></span>unique_prod_in_aisle, same like department.</p>\n",
    "\n",
    "<p class=MsoListParagraphCxSpMiddle style='margin-top:2.0pt;margin-right:0in;\n",
    "margin-bottom:4.8pt;margin-left:74.25pt;text-indent:-.25in'><span\n",
    "style='font-family:Wingdings'>Ø<span style='font:7.0pt \"Times New Roman\"'>&nbsp;\n",
    "</span></span>aisle_product_reordered, same like department.</p>\n",
    "\n",
    "<p class=MsoListParagraphCxSpMiddle style='margin-top:2.0pt;margin-right:0in;\n",
    "margin-bottom:4.8pt;margin-left:38.25pt;text-indent:-.25in'><span\n",
    "style='font-family:Symbol'>·<span style='font:7.0pt \"Times New Roman\"'>&nbsp;&nbsp;&nbsp;&nbsp;&nbsp;&nbsp;&nbsp;&nbsp;\n",
    "</span></span>Product_id, add_to_cart_order<b> (product-based features)</b> to\n",
    "get features like</p>\n",
    "\n",
    "<p class=MsoListParagraphCxSpMiddle style='margin-top:2.0pt;margin-right:0in;\n",
    "margin-bottom:4.8pt;margin-left:74.25pt;text-indent:-.25in'><span\n",
    "style='font-family:Wingdings'>Ø<span style='font:7.0pt \"Times New Roman\"'>&nbsp;\n",
    "</span></span>Reorder_product_prob, probability of product being reordered </p>\n",
    "\n",
    "<p class=MsoListParagraphCxSpMiddle style='margin-top:2.0pt;margin-right:0in;\n",
    "margin-bottom:4.8pt;margin-left:74.25pt;text-indent:-.25in'><span\n",
    "style='font-family:Wingdings'>Ø<span style='font:7.0pt \"Times New Roman\"'>&nbsp;\n",
    "</span></span>addToCartNumber_NumberOfOrder,mean position in the cart divide by\n",
    "number of time product reordered </p>\n",
    "\n",
    "<p class=MsoListParagraphCxSpMiddle style='margin-top:2.0pt;margin-right:0in;\n",
    "margin-bottom:4.8pt;margin-left:74.25pt;text-indent:-.25in'><span\n",
    "style='font-family:Wingdings'>Ø<span style='font:7.0pt \"Times New Roman\"'>&nbsp;\n",
    "</span></span>add_to_cart_order_mean, mean position in the cart of a product</p>\n",
    "\n",
    "<p class=MsoListParagraphCxSpMiddle style='margin-top:2.0pt;margin-right:0in;\n",
    "margin-bottom:4.8pt;margin-left:38.25pt;text-indent:-.25in'><span\n",
    "style='font-family:Symbol'>·<span style='font:7.0pt \"Times New Roman\"'>&nbsp;&nbsp;&nbsp;&nbsp;&nbsp;&nbsp;&nbsp;&nbsp;\n",
    "</span></span>user_id, orders, products and days_since_prior_order <b>(user-based\n",
    "features) </b>to get features like</p>\n",
    "\n",
    "<p class=MsoListParagraphCxSpMiddle style='margin-top:2.0pt;margin-right:0in;\n",
    "margin-bottom:4.8pt;margin-left:74.25pt;text-indent:-.25in'><span\n",
    "style='font-family:Wingdings'>Ø<span style='font:7.0pt \"Times New Roman\"'>&nbsp;\n",
    "</span></span>user_orders_count, how many orders by user </p>\n",
    "\n",
    "<p class=MsoListParagraphCxSpMiddle style='margin-top:2.0pt;margin-right:0in;\n",
    "margin-bottom:4.8pt;margin-left:74.25pt;text-indent:-.25in'><span\n",
    "style='font-family:Wingdings'>Ø<span style='font:7.0pt \"Times New Roman\"'>&nbsp;\n",
    "</span></span>user_since, days since the first order </p>\n",
    "\n",
    "<p class=MsoListParagraphCxSpMiddle style='margin-top:2.0pt;margin-right:0in;\n",
    "margin-bottom:4.8pt;margin-left:74.25pt;text-indent:-.25in'><span\n",
    "style='font-family:Wingdings'>Ø<span style='font:7.0pt \"Times New Roman\"'>&nbsp;\n",
    "</span></span>user_mean_days_since_prior_order, mean of days that user takes to\n",
    "order again</p>\n",
    "\n",
    "<p class=MsoListParagraphCxSpMiddle style='margin-top:2.0pt;margin-right:0in;\n",
    "margin-bottom:4.8pt;margin-left:74.25pt;text-indent:-.25in'><span\n",
    "style='font-family:Wingdings'>Ø<span style='font:7.0pt \"Times New Roman\"'>&nbsp;\n",
    "</span></span>user_median_days_since_prior_order, median of days that user\n",
    "takes to order again</p>\n",
    "\n",
    "<p class=MsoListParagraphCxSpMiddle style='margin-top:2.0pt;margin-right:0in;\n",
    "margin-bottom:4.8pt;margin-left:74.25pt;text-indent:-.25in'><span\n",
    "style='font-family:Wingdings'>Ø<span style='font:7.0pt \"Times New Roman\"'>&nbsp;\n",
    "</span></span>unique_prod, number of products ordered  </p>\n",
    "\n",
    "<p class=MsoListParagraphCxSpMiddle style='margin-top:2.0pt;margin-right:0in;\n",
    "margin-bottom:4.8pt;margin-left:74.25pt;text-indent:-.25in'><span\n",
    "style='font-family:Wingdings'>Ø<span style='font:7.0pt \"Times New Roman\"'>&nbsp;\n",
    "</span></span>NumberTimeProductsOrdered, number of time product reordered </p>\n",
    "\n",
    "<p class=MsoListParagraphCxSpMiddle style='margin-top:2.0pt;margin-right:0in;\n",
    "margin-bottom:4.8pt;margin-left:74.25pt;text-indent:-.25in'><span\n",
    "style='font-family:Wingdings'>Ø<span style='font:7.0pt \"Times New Roman\"'>&nbsp;\n",
    "</span></span>user_reorder_ratio, how many times a particular user reorders its\n",
    "products</p>\n",
    "\n",
    "<p class=MsoListParagraphCxSpMiddle style='margin-top:2.0pt;margin-right:0in;\n",
    "margin-bottom:4.8pt;margin-left:74.25pt;text-indent:-.25in'><span\n",
    "style='font-family:Wingdings'>Ø<span style='font:7.0pt \"Times New Roman\"'>&nbsp;\n",
    "</span></span>Avergae_Basket_size, mean number products in a cart by a user</p>\n",
    "\n",
    "<p class=MsoListParagraphCxSpMiddle style='margin-top:2.0pt;margin-right:0in;\n",
    "margin-bottom:4.8pt;margin-left:38.25pt;text-indent:-.25in'><span\n",
    "style='font-family:Symbol'>·<span style='font:7.0pt \"Times New Roman\"'>&nbsp;&nbsp;&nbsp;&nbsp;&nbsp;&nbsp;&nbsp;&nbsp;\n",
    "</span></span>product_id and users <b>(product-based features) </b>to get\n",
    "features like</p>\n",
    "\n",
    "<p class=MsoListParagraphCxSpMiddle style='margin-top:2.0pt;margin-right:0in;\n",
    "margin-bottom:4.8pt;margin-left:74.25pt;text-indent:-.25in'><span\n",
    "style='font-family:Wingdings'>Ø<span style='font:7.0pt \"Times New Roman\"'>&nbsp;\n",
    "</span></span>number_of_unique_users_for_product, number users who has ordered\n",
    "this product</p>\n",
    "\n",
    "<p class=MsoListParagraphCxSpMiddle style='margin-top:2.0pt;margin-right:0in;\n",
    "margin-bottom:4.8pt;margin-left:74.25pt;text-indent:-.25in'><span\n",
    "style='font-family:Wingdings'>Ø<span style='font:7.0pt \"Times New Roman\"'>&nbsp;\n",
    "</span></span>number_of_unique_users_for_product_reordered, number users who\n",
    "has reordered this product</p>\n",
    "\n",
    "<p class=MsoListParagraphCxSpMiddle style='margin-top:2.0pt;margin-right:0in;\n",
    "margin-bottom:4.8pt;margin-left:38.25pt;text-indent:-.25in'><span\n",
    "style='font-family:Symbol'>·<span style='font:7.0pt \"Times New Roman\"'>&nbsp;&nbsp;&nbsp;&nbsp;&nbsp;&nbsp;&nbsp;&nbsp;\n",
    "</span></span>user_id, product_id, order_dow and orders <b>(user and\n",
    "product-based features)</b> to get features like </p>\n",
    "\n",
    "<p class=MsoListParagraphCxSpMiddle style='margin-top:2.0pt;margin-right:0in;\n",
    "margin-bottom:4.8pt;margin-left:74.25pt;text-indent:-.25in'><span\n",
    "style='font-family:Wingdings'>Ø<span style='font:7.0pt \"Times New Roman\"'>&nbsp;\n",
    "</span></span>week_product_reordered, for a particular product for a user on\n",
    "which day of the week and how many times that product has been reordered</p>\n",
    "\n",
    "<p class=MsoListParagraphCxSpMiddle style='margin-top:2.0pt;margin-right:0in;\n",
    "margin-bottom:4.8pt;margin-left:74.25pt;text-indent:-.25in'><span\n",
    "style='font-family:Wingdings'>Ø<span style='font:7.0pt \"Times New Roman\"'>&nbsp;\n",
    "</span></span>week_product_ordered, for a particular product for a user on\n",
    "which day of the week and how many times that product has been ordered</p>\n",
    "\n",
    "<p class=MsoListParagraphCxSpMiddle style='margin-top:2.0pt;margin-right:0in;\n",
    "margin-bottom:4.8pt;margin-left:74.25pt;text-indent:-.25in'><span\n",
    "style='font-family:Wingdings'>Ø<span style='font:7.0pt \"Times New Roman\"'>&nbsp;\n",
    "</span></span>week_product_reordered_ration, ratio of both the above features</p>\n",
    "\n",
    "<p class=MsoListParagraphCxSpMiddle style='margin-top:2.0pt;margin-right:0in;\n",
    "margin-bottom:4.8pt;margin-left:38.25pt;text-indent:-.25in'><span\n",
    "style='font-family:Symbol'>·<span style='font:7.0pt \"Times New Roman\"'>&nbsp;&nbsp;&nbsp;&nbsp;&nbsp;&nbsp;&nbsp;&nbsp;\n",
    "</span></span>order_id, product_id and add_to_cart_order <b>(user and product-based\n",
    "features) </b>to get features like </p>\n",
    "\n",
    "<p class=MsoListParagraphCxSpMiddle style='margin-top:2.0pt;margin-right:0in;\n",
    "margin-bottom:4.8pt;margin-left:74.25pt;text-indent:-.25in'><span\n",
    "style='font-family:Wingdings'>Ø<span style='font:7.0pt \"Times New Roman\"'>&nbsp;\n",
    "</span></span>add_to_cart_order_inverse_mean, it is like if position of a\n",
    "product in the cart is 2 and max order in that cart is 5 then its inverse\n",
    "potion is 5-2=3, and took mean of that position for a particular product for a\n",
    "user.</p>\n",
    "\n",
    "<p class=MsoListParagraphCxSpMiddle style='margin-top:2.0pt;margin-right:0in;\n",
    "margin-bottom:4.8pt;margin-left:74.25pt;text-indent:-.25in'><span\n",
    "style='font-family:Wingdings'>Ø<span style='font:7.0pt \"Times New Roman\"'>&nbsp;\n",
    "</span></span>add_to_cart_order_relative_mean, it is like if position of a\n",
    "product in the cart is 2 and max order in that cart is 5 then 2/5=0.4, and took\n",
    "mean of that for a particular product for a user.</p>\n",
    "\n",
    "<p class=MsoListParagraphCxSpMiddle style='margin-top:2.0pt;margin-right:0in;\n",
    "margin-bottom:4.8pt;margin-left:38.25pt;text-indent:-.25in'><span\n",
    "style='font-family:Symbol'>·<span style='font:7.0pt \"Times New Roman\"'>&nbsp;&nbsp;&nbsp;&nbsp;&nbsp;&nbsp;&nbsp;&nbsp;\n",
    "</span></span>mean, min, max and size for orders features <b>(user and product-based\n",
    "features) </b>to get features like </p>\n",
    "\n",
    "<p class=MsoListParagraphCxSpMiddle style='margin-top:2.0pt;margin-right:0in;\n",
    "margin-bottom:4.8pt;margin-left:74.25pt;text-indent:-.25in'><span\n",
    "style='font-family:Wingdings'>Ø<span style='font:7.0pt \"Times New Roman\"'>&nbsp;\n",
    "</span></span>prod_min_orderNumber, </p>\n",
    "\n",
    "<p class=MsoListParagraphCxSpMiddle style='margin-top:2.0pt;margin-right:0in;\n",
    "margin-bottom:4.8pt;margin-left:74.25pt;text-indent:-.25in'><span\n",
    "style='font-family:Wingdings'>Ø<span style='font:7.0pt \"Times New Roman\"'>&nbsp;\n",
    "</span></span>prod_max_orderNumber, </p>\n",
    "\n",
    "<p class=MsoListParagraphCxSpMiddle style='margin-top:2.0pt;margin-right:0in;\n",
    "margin-bottom:4.8pt;margin-left:74.25pt;text-indent:-.25in'><span\n",
    "style='font-family:Wingdings'>Ø<span style='font:7.0pt \"Times New Roman\"'>&nbsp;\n",
    "</span></span>prod_cart_mean, </p>\n",
    "\n",
    "<p class=MsoListParagraphCxSpMiddle style='margin-top:2.0pt;margin-right:0in;\n",
    "margin-bottom:4.8pt;margin-left:74.25pt;text-indent:-.25in'><span\n",
    "style='font-family:Wingdings'>Ø<span style='font:7.0pt \"Times New Roman\"'>&nbsp;\n",
    "</span></span>days_since_prior_order_mean, </p>\n",
    "\n",
    "<p class=MsoListParagraphCxSpMiddle style='margin-top:2.0pt;margin-right:0in;\n",
    "margin-bottom:4.8pt;margin-left:74.25pt;text-indent:-.25in'><span\n",
    "style='font-family:Wingdings'>Ø<span style='font:7.0pt \"Times New Roman\"'>&nbsp;\n",
    "</span></span>order_dow_mean, </p>\n",
    "\n",
    "<p class=MsoListParagraphCxSpMiddle style='margin-top:2.0pt;margin-right:0in;\n",
    "margin-bottom:4.8pt;margin-left:74.25pt;text-indent:-.25in'><span\n",
    "style='font-family:Wingdings'>Ø<span style='font:7.0pt \"Times New Roman\"'>&nbsp;\n",
    "</span></span>order_hour_of_day_mean, </p>\n",
    "\n",
    "<p class=MsoListParagraphCxSpMiddle style='margin-top:2.0pt;margin-right:0in;\n",
    "margin-bottom:4.8pt;margin-left:74.25pt;text-indent:-.25in'><span\n",
    "style='font-family:Wingdings'>Ø<span style='font:7.0pt \"Times New Roman\"'>&nbsp;\n",
    "</span></span>reordered_sum, </p>\n",
    "\n",
    "<p class=MsoListParagraphCxSpMiddle style='margin-top:2.0pt;margin-right:0in;\n",
    "margin-bottom:4.8pt;margin-left:38.25pt;text-indent:-.25in'><span\n",
    "style='font-family:Symbol'>·<span style='font:7.0pt \"Times New Roman\"'>&nbsp;&nbsp;&nbsp;&nbsp;&nbsp;&nbsp;&nbsp;&nbsp;\n",
    "</span></span>product embedding, a representation of products based on order\n",
    "features in 31 dimensions </p>\n",
    "\n",
    "<p class=MsoListParagraphCxSpMiddle style='margin-top:2.0pt;margin-right:0in;\n",
    "margin-bottom:4.8pt;margin-left:38.25pt'>&nbsp;</p>\n",
    "\n",
    "<p class=MsoListParagraphCxSpMiddle style='margin-top:2.0pt;margin-right:0in;\n",
    "margin-bottom:4.8pt;margin-left:0in'>then merged all these features to get them\n",
    "the format, order_id , product_id, features…</p>\n",
    "\n",
    "<p class=MsoListParagraphCxSpMiddle style='margin-top:2.0pt;margin-right:0in;\n",
    "margin-bottom:4.8pt;margin-left:0in'><b>&nbsp;</b></p>\n",
    "\n",
    "<p class=MsoListParagraphCxSpMiddle style='margin-top:2.0pt;margin-right:0in;\n",
    "margin-bottom:4.8pt;margin-left:0in'><b>Splitting Data:</b></p>\n",
    "\n",
    "<p class=MsoListParagraphCxSpMiddle style='margin-top:2.0pt;margin-right:0in;\n",
    "margin-bottom:4.8pt;margin-left:0in'><b>                </b>Split the data as\n",
    "train and CV based on user_id, so the user that are in train won’t be there in\n",
    "CV.</p>\n",
    "    \n",
    "<p class=MsoListParagraphCxSpMiddle style='margin-top:2.0pt;margin-right:0in;\n",
    "margin-bottom:4.8pt;margin-left:0in'><b>Radnom/Baseline Model:</b></p>\n",
    "\n",
    "<p class=MsoListParagraphCxSpMiddle style='margin-top:2.0pt;margin-right:0in;\n",
    "margin-bottom:4.8pt;margin-left:0in'><b>                </b>I have created a radom model to check how worst can a model perform. So, we would compare our other model with it.</p>\n",
    "<p class=MsoListParagraphCxSpMiddle style='margin-top:2.0pt;margin-right:0in;\n",
    "margin-bottom:4.8pt;margin-left:0in'><b>                </b><b>F1 score :  0.16354973285255797</b></p>\n",
    "\n",
    "<p class=MsoListParagraphCxSpMiddle style='margin-top:2.0pt;margin-right:0in;\n",
    "margin-bottom:4.8pt;margin-left:0in'><b>&nbsp;</b></p>\n",
    "\n",
    "<p class=MsoListParagraphCxSpMiddle style='margin-top:2.0pt;margin-right:0in;\n",
    "margin-bottom:4.8pt;margin-left:0in'><b>ML models: </b>I will try with\n",
    "different ML models –</p>\n",
    "\n",
    "<p class=MsoListParagraphCxSpMiddle style='margin-top:2.0pt;margin-right:0in;\n",
    "margin-bottom:4.8pt;margin-left:2.75in;text-indent:-.25in'><span\n",
    "style='font-family:Wingdings'>Ø<span style='font:7.0pt \"Times New Roman\"'>&nbsp;\n",
    "</span></span>Logistic Regression</p>\n",
    "\n",
    "<p class=MsoListParagraphCxSpMiddle style='margin-top:2.0pt;margin-right:0in;\n",
    "margin-bottom:4.8pt;margin-left:2.75in;text-indent:-.25in'><span\n",
    "style='font-family:Wingdings'>Ø<span style='font:7.0pt \"Times New Roman\"'>&nbsp;\n",
    "</span></span>Naive Bayes</p>\n",
    "\n",
    "<p class=MsoListParagraphCxSpMiddle style='margin-top:2.0pt;margin-right:0in;\n",
    "margin-bottom:4.8pt;margin-left:2.75in;text-indent:-.25in'><span\n",
    "style='font-family:Wingdings'>Ø<span style='font:7.0pt \"Times New Roman\"'>&nbsp;\n",
    "</span></span>Decision Trees</p>\n",
    "\n",
    "<p class=MsoListParagraphCxSpMiddle style='margin-top:2.0pt;margin-right:0in;\n",
    "margin-bottom:4.8pt;margin-left:2.75in;text-indent:-.25in'><span\n",
    "style='font-family:Wingdings'>Ø<span style='font:7.0pt \"Times New Roman\"'>&nbsp;\n",
    "</span></span>Random Forest</p>\n",
    "\n",
    "<p class=MsoListParagraphCxSpMiddle style='margin-top:2.0pt;margin-right:0in;\n",
    "margin-bottom:4.8pt;margin-left:2.75in;text-indent:-.25in'><span\n",
    "style='font-family:Wingdings'>Ø<span style='font:7.0pt \"Times New Roman\"'>&nbsp;\n",
    "</span></span>Gradient Boosting</p>\n",
    "\n",
    "<p class=MsoListParagraphCxSpMiddle style='margin-top:2.0pt;margin-right:0in;\n",
    "margin-bottom:4.8pt;margin-left:0in'>Then I am gonne apply the Autoencoder to\n",
    "the best model and see if autoencoding is giving any good f1 scores, if it is not,\n",
    "we are not gonne use autoencoders.</p>\n",
    "\n",
    "<p class=MsoListParagraphCxSpLast style='margin-top:2.0pt;margin-right:0in;\n",
    "margin-bottom:4.8pt;margin-left:0in'>Then I will do the hyperparameter tuning\n",
    "of only the models that are giving high f1 score, and yes, we are gonne user f1\n",
    "score as the performance metric.</p>"
   ]
  },
  {
   "cell_type": "code",
   "execution_count": null,
   "metadata": {},
   "outputs": [],
   "source": [
    "import numpy as np\n",
    "import pandas as pd\n",
    "import seaborn as sn\n",
    "import matplotlib.pyplot as plt\n",
    "from sklearn.metrics import f1_score\n",
    "from sklearn.metrics import confusion_matrix\n",
    "from tensorflow.keras.models import load_model\n",
    "from sklearn.model_selection import GroupShuffleSplit\n",
    "\n",
    "from sklearn.linear_model import LogisticRegression\n",
    "from sklearn.naive_bayes import GaussianNB\n",
    "from sklearn.tree import DecisionTreeClassifier\n",
    "from sklearn.svm import SVC\n",
    "from sklearn.ensemble import RandomForestClassifier\n",
    "import xgboost as xgb"
   ]
  },
  {
   "cell_type": "code",
   "execution_count": 2,
   "metadata": {},
   "outputs": [],
   "source": [
    "# Reading all the features\n",
    "data_train = pd.read_csv('my_final/data.csv')\n",
    "labels_train = data_train['reordered']\n",
    "\n",
    "# filling NaN values as -1\n",
    "data_train = data_train.fillna(-1)"
   ]
  },
  {
   "cell_type": "code",
   "execution_count": 3,
   "metadata": {},
   "outputs": [],
   "source": [
    "# Splitting the data User_id wise\n",
    "from sklearn.model_selection import GroupShuffleSplit\n",
    "\n",
    "train_inds, test_inds = next(GroupShuffleSplit(test_size=.3, n_splits=1, random_state = 42).split(data_train, groups=data_train['user_id']))\n",
    "\n",
    "data_train = data_train.drop(['Unnamed: 0', 'order_id','eval_set_x','eval_set_y','reordered','product_name'],axis=1)\n",
    "\n",
    "X_train = data_train.iloc[train_inds]\n",
    "y_train = labels_train.iloc[train_inds]\n",
    "X_cv = data_train.iloc[test_inds]\n",
    "y_cv = labels_train.iloc[test_inds]"
   ]
  },
  {
   "cell_type": "markdown",
   "metadata": {},
   "source": [
    "## How Imbalanced the data is ?"
   ]
  },
  {
   "cell_type": "code",
   "execution_count": 34,
   "metadata": {},
   "outputs": [
    {
     "name": "stdout",
     "output_type": "stream",
     "text": [
      "Train Percentage of positive class:  10.863632334012747\n",
      "CV Percentage of positive class:  10.785704312741974\n"
     ]
    }
   ],
   "source": [
    "# Train\n",
    "unique, counts = np.unique(y_train, return_counts=True)\n",
    "ok = dict(zip(unique, counts))\n",
    "print(\"Train Percentage of positive class: \", (ok[True]/ok[False])*100)\n",
    "# CV\n",
    "unique, counts = np.unique(y_cv, return_counts=True)\n",
    "ok = dict(zip(unique, counts))\n",
    "print(\"CV Percentage of positive class: \", (ok[True]/ok[False])*100)\n"
   ]
  },
  {
   "cell_type": "markdown",
   "metadata": {},
   "source": [
    "<p>The Data is highly Imbalanced</p>\n",
    "<p>First we wil try different models and from those models we will choose one model and apply hyperparameter tuning and will also use Autoencoders on that.</p>"
   ]
  },
  {
   "cell_type": "markdown",
   "metadata": {},
   "source": [
    "## Logistic Regression "
   ]
  },
  {
   "cell_type": "code",
   "execution_count": 49,
   "metadata": {},
   "outputs": [
    {
     "name": "stdout",
     "output_type": "stream",
     "text": [
      "Confusion Matrix :  [[2295028    4043]\n",
      " [ 246155    1816]]\n"
     ]
    },
    {
     "data": {
      "image/png": "[encoded data removed]",
      "text/plain": [
       "<Figure size 432x288 with 2 Axes>"
      ]
     },
     "metadata": {},
     "output_type": "display_data"
    },
    {
     "name": "stdout",
     "output_type": "stream",
     "text": [
      "F1 score :  0.014308789347200883\n"
     ]
    }
   ],
   "source": [
    "LR_Model = LogisticRegression(n_jobs=-1).fit(X_train,y_train)\n",
    "pred_Xcv = LR_Model.predict(X_cv)\n",
    "print(\"Confusion Matrix : \", confusion_matrix(y_cv, pred_Xcv))\n",
    "df_cm = pd.DataFrame(confusion_matrix(y_cv, pred_Xcv), ['Pred_0','Pred_1'], ['Actual_0','Actual_1'])\n",
    "# plt.figure(figsize=(10,7))\n",
    "sn.set(font_scale=1) # for label size\n",
    "sn.heatmap(df_cm, annot=True, annot_kws={\"size\": 12}) # font size\n",
    "\n",
    "plt.show()\n",
    "print(\"F1 score : \", f1_score(y_cv, pred_Xcv))"
   ]
  },
  {
   "cell_type": "markdown",
   "metadata": {},
   "source": [
    "## Weighted Logistic Regression"
   ]
  },
  {
   "cell_type": "code",
   "execution_count": 50,
   "metadata": {},
   "outputs": [
    {
     "name": "stdout",
     "output_type": "stream",
     "text": [
      "Confusion Matrix :  [[1507222  791849]\n",
      " [  60876  187095]]\n"
     ]
    },
    {
     "data": {
      "image/png": "[encoded data removed]",
      "text/plain": [
       "<Figure size 432x288 with 2 Axes>"
      ]
     },
     "metadata": {},
     "output_type": "display_data"
    },
    {
     "name": "stdout",
     "output_type": "stream",
     "text": [
      "F1 score :  0.3049844528757086\n"
     ]
    }
   ],
   "source": [
    "LR_Model = LogisticRegression(class_weight = \"balanced\", n_jobs=-1).fit(X_train,y_train)\n",
    "pred_Xcv = LR_Model.predict(X_cv)\n",
    "print(\"Confusion Matrix : \", confusion_matrix(y_cv, pred_Xcv))\n",
    "df_cm = pd.DataFrame(confusion_matrix(y_cv, pred_Xcv), ['Pred_0','Pred_1'], ['Actual_0','Actual_1'])\n",
    "# plt.figure(figsize=(10,7))\n",
    "sn.set(font_scale=1) # for label size\n",
    "sn.heatmap(df_cm, annot=True, annot_kws={\"size\": 12}) # font size\n",
    "\n",
    "plt.show()\n",
    "print(\"F1 score : \", f1_score(y_cv, pred_Xcv))"
   ]
  },
  {
   "cell_type": "markdown",
   "metadata": {},
   "source": [
    "## Naive Bayes"
   ]
  },
  {
   "cell_type": "code",
   "execution_count": 51,
   "metadata": {},
   "outputs": [
    {
     "name": "stdout",
     "output_type": "stream",
     "text": [
      "Confusion Matrix :  [[2083183  215888]\n",
      " [ 159027   88944]]\n"
     ]
    },
    {
     "data": {
      "image/png": "[encoded data removed]",
      "text/plain": [
       "<Figure size 432x288 with 2 Axes>"
      ]
     },
     "metadata": {},
     "output_type": "display_data"
    },
    {
     "name": "stdout",
     "output_type": "stream",
     "text": [
      "F1 score :  0.32179275438085536\n"
     ]
    }
   ],
   "source": [
    "gnb = GaussianNB().fit(X_train, y_train)\n",
    "pred_Xcv = gnb.predict(X_cv)\n",
    "print(\"Confusion Matrix : \", confusion_matrix(y_cv, pred_Xcv))\n",
    "df_cm = pd.DataFrame(confusion_matrix(y_cv, pred_Xcv), ['Pred_0','Pred_1'], ['Actual_0','Actual_1'])\n",
    "# plt.figure(figsize=(10,7))\n",
    "sn.set(font_scale=1) # for label size\n",
    "sn.heatmap(df_cm, annot=True, annot_kws={\"size\": 12}) # font size\n",
    "\n",
    "plt.show()\n",
    "print(\"F1 score : \", f1_score(y_cv, pred_Xcv))"
   ]
  },
  {
   "cell_type": "markdown",
   "metadata": {},
   "source": [
    "## Decision Trees"
   ]
  },
  {
   "cell_type": "code",
   "execution_count": 52,
   "metadata": {},
   "outputs": [
    {
     "name": "stdout",
     "output_type": "stream",
     "text": [
      "Confusion Matrix :  [[2120100  178971]\n",
      " [ 182793   65178]]\n"
     ]
    },
    {
     "data": {
      "image/png": "[encoded data removed]",
      "text/plain": [
       "<Figure size 432x288 with 2 Axes>"
      ]
     },
     "metadata": {},
     "output_type": "display_data"
    },
    {
     "name": "stdout",
     "output_type": "stream",
     "text": [
      "F1 score :  0.2648866130212143\n"
     ]
    }
   ],
   "source": [
    "clf = DecisionTreeClassifier(class_weight='balanced').fit(X_train, y_train)\n",
    "pred_Xcv = clf.predict(X_cv)\n",
    "print(\"Confusion Matrix : \", confusion_matrix(y_cv, pred_Xcv))\n",
    "df_cm = pd.DataFrame(confusion_matrix(y_cv, pred_Xcv), ['Pred_0','Pred_1'], ['Actual_0','Actual_1'])\n",
    "# plt.figure(figsize=(10,7))\n",
    "sn.set(font_scale=1) # for label size\n",
    "sn.heatmap(df_cm, annot=True, annot_kws={\"size\": 12}) # font size\n",
    "\n",
    "plt.show()\n",
    "\n",
    "print(\"F1 score : \", f1_score(y_cv, pred_Xcv))"
   ]
  },
  {
   "cell_type": "markdown",
   "metadata": {},
   "source": [
    "## Random Forest"
   ]
  },
  {
   "cell_type": "code",
   "execution_count": 4,
   "metadata": {},
   "outputs": [
    {
     "name": "stdout",
     "output_type": "stream",
     "text": [
      "Confusion Matrix :  [[2280539   18532]\n",
      " [ 215587   32384]]\n"
     ]
    },
    {
     "data": {
      "image/png": "[encoded data removed]",
      "text/plain": [
       "<Figure size 432x288 with 2 Axes>"
      ]
     },
     "metadata": {},
     "output_type": "display_data"
    },
    {
     "name": "stdout",
     "output_type": "stream",
     "text": [
      "F1 score :  0.21669728024303503\n"
     ]
    }
   ],
   "source": [
    "rand_clf = RandomForestClassifier(class_weight='balanced', n_jobs=-1).fit(X_train, y_train)\n",
    "pred_Xcv = rand_clf.predict(X_cv)\n",
    "print(\"Confusion Matrix : \", confusion_matrix(y_cv, pred_Xcv))\n",
    "df_cm = pd.DataFrame(confusion_matrix(y_cv, pred_Xcv), ['Pred_0','Pred_1'], ['Actual_0','Actual_1'])\n",
    "# plt.figure(figsize=(10,7))\n",
    "sn.set(font_scale=1) # for label size\n",
    "sn.heatmap(df_cm, annot=True, annot_kws={\"size\": 12}) # font size\n",
    "\n",
    "plt.show()\n",
    "print(\"F1 score : \", f1_score(y_cv, pred_Xcv))"
   ]
  },
  {
   "cell_type": "markdown",
   "metadata": {},
   "source": [
    "## Gradient Boosting with XGBoost"
   ]
  },
  {
   "cell_type": "code",
   "execution_count": 9,
   "metadata": {},
   "outputs": [
    {
     "name": "stdout",
     "output_type": "stream",
     "text": [
      "[20:36:15] WARNING: C:\\Users\\Administrator\\workspace\\xgboost-win64_release_1.0.0\\src\\gbm\\gbtree.cc:138: Tree method is automatically selected to be 'approx' for faster speed. To use old behavior (exact greedy algorithm on single machine), set tree_method to 'exact'.\n",
      "[0]\ttrain-logloss:0.51225\n",
      "[10]\ttrain-logloss:0.25111\n",
      "[20]\ttrain-logloss:0.24614\n",
      "[30]\ttrain-logloss:0.24478\n",
      "[40]\ttrain-logloss:0.24386\n",
      "[49]\ttrain-logloss:0.24328\n",
      "Confusion Matrix :  [[2003530  295541]\n",
      " [  98439  149532]]\n"
     ]
    },
    {
     "data": {
      "image/png": "[encoded data removed]",
      "text/plain": [
       "<Figure size 432x288 with 2 Axes>"
      ]
     },
     "metadata": {},
     "output_type": "display_data"
    },
    {
     "name": "stdout",
     "output_type": "stream",
     "text": [
      "F1 score :  0.4315223853030976\n"
     ]
    }
   ],
   "source": [
    "xgb_params = {\n",
    "    \"objective\"         : \"reg:logistic\"\n",
    "    ,\"eval_metric\"      : \"logloss\"\n",
    "}\n",
    "num_round = 50\n",
    "\n",
    "d_train = xgb.DMatrix(X_train, y_train)\n",
    "watchlist= [(d_train, \"train\")]\n",
    "bst = xgb.train(params= xgb_params, dtrain=d_train, num_boost_round=num_round, evals=watchlist,verbose_eval = 10)\n",
    "pred_Xcv = bst.predict(xgb.DMatrix(X_cv))\n",
    "pred_Xcv = [True if i >=0.16 else False for i in pred_Xcv]\n",
    "print(\"Confusion Matrix : \", confusion_matrix(y_cv, pred_Xcv))\n",
    "df_cm = pd.DataFrame(confusion_matrix(y_cv, pred_Xcv), ['Pred_0','Pred_1'], ['Actual_0','Actual_1'])\n",
    "# plt.figure(figsize=(10,7))\n",
    "sn.set(font_scale=1) # for label size\n",
    "sn.heatmap(df_cm, annot=True, annot_kws={\"size\": 12}) # font size\n",
    "\n",
    "plt.show()\n",
    "print(\"F1 score : \", f1_score(y_cv, pred_Xcv))"
   ]
  },
  {
   "cell_type": "markdown",
   "metadata": {},
   "source": [
    "<p>As the from the F1 Score we can get, that best model is Gradient descent with XGBoost. So first I will apply Gradient desent on Autoencoders and if we even can use an Autoencoder or not, then I will do the hyperparameter tuning on the model.</p>"
   ]
  },
  {
   "cell_type": "markdown",
   "metadata": {},
   "source": [
    "## Trying autoencoder features with Gradient Boosting"
   ]
  },
  {
   "cell_type": "markdown",
   "metadata": {},
   "source": [
    "#### Autoencoder with Normalization "
   ]
  },
  {
   "cell_type": "code",
   "execution_count": 24,
   "metadata": {},
   "outputs": [
    {
     "name": "stdout",
     "output_type": "stream",
     "text": [
      "WARNING:tensorflow:No training configuration found in the save file, so the model was *not* compiled. Compile it manually.\n",
      "[12:52:12] WARNING: C:\\Users\\Administrator\\workspace\\xgboost-win64_release_1.0.0\\src\\gbm\\gbtree.cc:138: Tree method is automatically selected to be 'approx' for faster speed. To use old behavior (exact greedy algorithm on single machine), set tree_method to 'exact'.\n",
      "[0]\ttrain-logloss:0.52341\n",
      "[10]\ttrain-logloss:0.29277\n",
      "[20]\ttrain-logloss:0.28515\n",
      "[30]\ttrain-logloss:0.28129\n",
      "[40]\ttrain-logloss:0.27893\n",
      "[49]\ttrain-logloss:0.27760\n",
      "Confusion Matrix :  [[1942030  357041]\n",
      " [ 129525  118446]]\n"
     ]
    },
    {
     "data": {
      "image/png": "[encoded data removed]",
      "text/plain": [
       "<Figure size 432x288 with 2 Axes>"
      ]
     },
     "metadata": {},
     "output_type": "display_data"
    },
    {
     "name": "stdout",
     "output_type": "stream",
     "text": [
      "F1 score :  0.32744402577620263\n"
     ]
    }
   ],
   "source": [
    "# first we need to divide the data for the features that we will apply autencoding to, then merge back\n",
    "\n",
    "data_train = pd.read_csv('my_final/data.csv')\n",
    "labels_train = data_train['reordered']\n",
    "\n",
    "# filling NaN values as -1\n",
    "data_train = data_train.fillna(-1)\n",
    "\n",
    "train_inds, test_inds = next(GroupShuffleSplit(test_size=.3, n_splits=1, random_state = 42).split(data_train, groups=data_train['user_id']))\n",
    "data_train1 = data_train.drop(['Unnamed: 0', 'order_id','eval_set_x','eval_set_y','reordered','product_name','user_id','product_id','order_number','order_dow','order_hour_of_day','days_since_prior_order','aisle_id','department_id'],axis=1)\n",
    "X_trainEncod = data_train1.iloc[train_inds]\n",
    "y_trainEncod = labels_train.iloc[train_inds]\n",
    "X_cvEncod = data_train1.iloc[test_inds]\n",
    "y_cvEncod = labels_train.iloc[test_inds]\n",
    "\n",
    "# the enoder we trained \n",
    "encoder = load_model('autoencoderwithNorm.h5')\n",
    "\n",
    "# tranforming our data\n",
    "X_trainEncod = encoder.predict(X_trainEncod)\n",
    "X_cvEncod = encoder.predict(X_cvEncod)\n",
    "\n",
    "X_trainMerge = data_train[['user_id','product_id','order_number','order_dow','order_hour_of_day','days_since_prior_order','aisle_id','department_id']].iloc[train_inds]\n",
    "X_CVMerge = data_train[['user_id','product_id','order_number','order_dow','order_hour_of_day','days_since_prior_order','aisle_id','department_id']].iloc[test_inds]\n",
    "\n",
    "X_trainEncod = pd.DataFrame(data=X_trainEncod, columns=list(range(34)))\n",
    "X_trainMerge= X_trainMerge.reset_index(drop=True)\n",
    "X_train = X_trainMerge.merge(X_trainEncod, left_index=True, right_index=True)\n",
    "\n",
    "X_cvEncod = pd.DataFrame(data=X_cvEncod, columns=list(range(34)))\n",
    "X_CVMerge= X_CVMerge.reset_index(drop=True)\n",
    "X_CV = X_CVMerge.merge(X_cvEncod, left_index=True, right_index=True)\n",
    "\n",
    "# Gradient Boosting to the Autoencoder\n",
    "xgb_params = {\n",
    "    \"objective\"         : \"reg:logistic\"\n",
    "    ,\"eval_metric\"      : \"logloss\"\n",
    "\n",
    "}\n",
    "num_round = 50\n",
    "d_train = xgb.DMatrix(X_train, y_trainEncod)\n",
    "watchlist= [(d_train, \"train\")]\n",
    "bst = xgb.train(params= xgb_params, dtrain=d_train,num_boost_round=num_round, evals=watchlist,verbose_eval = 10)\n",
    "pred_Xcv = bst.predict(xgb.DMatrix(X_CV))\n",
    "arr = [True if i >=0.16 else False for i in pred_Xcv]\n",
    "y_cvEncod = labels_train.iloc[test_inds]\n",
    "print(\"Confusion Matrix : \", confusion_matrix(y_cvEncod, arr))\n",
    "df_cm = pd.DataFrame(confusion_matrix(y_cvEncod, arr), ['Pred_0','Pred_1'], ['Actual_0','Actual_1'])\n",
    "# plt.figure(figsize=(10,7))\n",
    "sn.set(font_scale=1) # for label size\n",
    "sn.heatmap(df_cm, annot=True, annot_kws={\"size\": 12}) # font size\n",
    "\n",
    "plt.show()\n",
    "print(\"F1 score : \", f1_score(y_cvEncod, arr))"
   ]
  },
  {
   "cell_type": "markdown",
   "metadata": {},
   "source": [
    "#### Autoencoder without Normalization "
   ]
  },
  {
   "cell_type": "code",
   "execution_count": 25,
   "metadata": {},
   "outputs": [
    {
     "name": "stdout",
     "output_type": "stream",
     "text": [
      "WARNING:tensorflow:No training configuration found in the save file, so the model was *not* compiled. Compile it manually.\n",
      "[13:12:04] WARNING: C:\\Users\\Administrator\\workspace\\xgboost-win64_release_1.0.0\\src\\gbm\\gbtree.cc:138: Tree method is automatically selected to be 'approx' for faster speed. To use old behavior (exact greedy algorithm on single machine), set tree_method to 'exact'.\n",
      "[0]\ttrain-logloss:0.52357\n",
      "[10]\ttrain-logloss:0.29295\n",
      "[20]\ttrain-logloss:0.28692\n",
      "[30]\ttrain-logloss:0.28400\n",
      "[40]\ttrain-logloss:0.28211\n",
      "[49]\ttrain-logloss:0.28063\n",
      "Confusion Matrix :  [[1935304  363767]\n",
      " [ 131549  116422]]\n"
     ]
    },
    {
     "data": {
      "image/png": "[encoded data removed]",
      "text/plain": [
       "<Figure size 432x288 with 2 Axes>"
      ]
     },
     "metadata": {},
     "output_type": "display_data"
    },
    {
     "name": "stdout",
     "output_type": "stream",
     "text": [
      "F1 score :  0.3197703801362338\n"
     ]
    }
   ],
   "source": [
    "# Autoencoder without Normalization \n",
    "\n",
    "# first we need to divide the data for the features that we will apply autencoding to, then merge back.\n",
    "\n",
    "data_train = pd.read_csv('my_final/data.csv')\n",
    "labels_train = data_train['reordered']\n",
    "\n",
    "# filling NaN values as -1\n",
    "data_train = data_train.fillna(-1)\n",
    "\n",
    "train_inds, test_inds = next(GroupShuffleSplit(test_size=.3, n_splits=1, random_state = 42).split(data_train, groups=data_train['user_id']))\n",
    "data_train1 = data_train.drop(['Unnamed: 0', 'order_id','eval_set_x','eval_set_y','reordered','product_name','user_id','product_id','order_number','order_dow','order_hour_of_day','days_since_prior_order','aisle_id','department_id'],axis=1)\n",
    "X_trainEncod = data_train1.iloc[train_inds]\n",
    "y_trainEncod = labels_train.iloc[train_inds]\n",
    "X_cvEncod = data_train1.iloc[test_inds]\n",
    "y_cvEncod = labels_train.iloc[test_inds]\n",
    "\n",
    "# the enoder we trained \n",
    "encoder = load_model('autoencoder_withoutNorm.h5')\n",
    "\n",
    "# tranforming our data\n",
    "X_trainEncod = encoder.predict(X_trainEncod)\n",
    "X_cvEncod = encoder.predict(X_cvEncod)\n",
    "\n",
    "X_trainMerge = data_train[['user_id','product_id','order_number','order_dow','order_hour_of_day','days_since_prior_order','aisle_id','department_id']].iloc[train_inds]\n",
    "X_CVMerge = data_train[['user_id','product_id','order_number','order_dow','order_hour_of_day','days_since_prior_order','aisle_id','department_id']].iloc[test_inds]\n",
    "\n",
    "X_trainEncod = pd.DataFrame(data=X_trainEncod, columns=list(range(34)))\n",
    "X_trainMerge= X_trainMerge.reset_index(drop=True)\n",
    "X_train = X_trainMerge.merge(X_trainEncod, left_index=True, right_index=True)\n",
    "\n",
    "X_cvEncod = pd.DataFrame(data=X_cvEncod, columns=list(range(34)))\n",
    "X_CVMerge= X_CVMerge.reset_index(drop=True)\n",
    "X_CV = X_CVMerge.merge(X_cvEncod, left_index=True, right_index=True)\n",
    "\n",
    "# Gradient Boosting to the Autoencoder\n",
    "xgb_params = {\n",
    "    \"objective\"         : \"reg:logistic\"\n",
    "    ,\"eval_metric\"      : \"logloss\"\n",
    "}\n",
    "num_round = 50\n",
    "d_train = xgb.DMatrix(X_train, y_trainEncod)\n",
    "watchlist= [(d_train, \"train\")]\n",
    "bst = xgb.train(params= xgb_params, dtrain=d_train,num_boost_round=num_round, evals=watchlist,verbose_eval = 10)\n",
    "pred_Xcv = bst.predict(xgb.DMatrix(X_CV))\n",
    "arr = [True if i >=0.16 else False for i in pred_Xcv]\n",
    "y_cvEncod = labels_train.iloc[test_inds]\n",
    "print(\"Confusion Matrix : \", confusion_matrix(y_cvEncod, arr))\n",
    "df_cm = pd.DataFrame(confusion_matrix(y_cvEncod, arr), ['Pred_0','Pred_1'], ['Actual_0','Actual_1'])\n",
    "# plt.figure(figsize=(10,7))\n",
    "sn.set(font_scale=1) # for label size\n",
    "sn.heatmap(df_cm, annot=True, annot_kws={\"size\": 12}) # font size\n",
    "\n",
    "plt.show()\n",
    "print(\"F1 score : \", f1_score(y_cvEncod, arr))"
   ]
  },
  {
   "cell_type": "markdown",
   "metadata": {},
   "source": [
    "<p>The encoding of the features doesn't perform as good as the actual features,So it would better to use the actual features instead of encoded ones.</p>"
   ]
  },
  {
   "cell_type": "markdown",
   "metadata": {},
   "source": [
    "## Hyperparameter Tuning of Gradient Boosting"
   ]
  },
  {
   "cell_type": "code",
   "execution_count": 20,
   "metadata": {},
   "outputs": [
    {
     "name": "stdout",
     "output_type": "stream",
     "text": [
      "4 0.7 1 0.5 reg:logistic\n",
      "logloss 0.21791466666666667 for 19 rounds\n",
      "4 0.7 1 0.5 reg:squarederror\n",
      "logloss 0.21942733333333334 for 13 rounds\n",
      "4 0.7 1 1 reg:logistic\n",
      "logloss 0.21787333333333334 for 19 rounds\n",
      "4 0.7 1 1 reg:squarederror\n",
      "logloss 0.219396 for 15 rounds\n",
      "4 0.7 5 0.5 reg:logistic\n",
      "logloss 0.21786333333333333 for 19 rounds\n",
      "4 0.7 5 0.5 reg:squarederror\n",
      "logloss 0.21931266666666668 for 13 rounds\n",
      "4 0.7 5 1 reg:logistic\n",
      "logloss 0.21784666666666666 for 19 rounds\n",
      "4 0.7 5 1 reg:squarederror\n",
      "logloss 0.21942966666666663 for 14 rounds\n",
      "4 0.8 1 0.5 reg:logistic\n",
      "logloss 0.21774133333333334 for 19 rounds\n",
      "4 0.8 1 0.5 reg:squarederror\n",
      "logloss 0.219527 for 15 rounds\n",
      "4 0.8 1 1 reg:logistic\n",
      "logloss 0.217715 for 19 rounds\n",
      "4 0.8 1 1 reg:squarederror\n",
      "logloss 0.21955400000000003 for 13 rounds\n",
      "4 0.8 5 0.5 reg:logistic\n",
      "logloss 0.21762266666666666 for 19 rounds\n",
      "4 0.8 5 0.5 reg:squarederror\n",
      "logloss 0.21935400000000002 for 14 rounds\n",
      "4 0.8 5 1 reg:logistic\n",
      "logloss 0.217697 for 19 rounds\n",
      "4 0.8 5 1 reg:squarederror\n",
      "logloss 0.21934 for 16 rounds\n",
      "6 0.7 1 0.5 reg:logistic\n",
      "logloss 0.21652833333333332 for 19 rounds\n",
      "6 0.7 1 0.5 reg:squarederror\n",
      "logloss 0.21779266666666666 for 13 rounds\n",
      "6 0.7 1 1 reg:logistic\n",
      "logloss 0.21641933333333332 for 19 rounds\n",
      "6 0.7 1 1 reg:squarederror\n",
      "logloss 0.21799066666666667 for 14 rounds\n",
      "6 0.7 5 0.5 reg:logistic\n",
      "logloss 0.21658233333333332 for 19 rounds\n",
      "6 0.7 5 0.5 reg:squarederror\n",
      "logloss 0.21795766666666663 for 13 rounds\n",
      "6 0.7 5 1 reg:logistic\n",
      "logloss 0.21646600000000002 for 19 rounds\n",
      "6 0.7 5 1 reg:squarederror\n",
      "logloss 0.21779099999999998 for 15 rounds\n",
      "6 0.8 1 0.5 reg:logistic\n",
      "logloss 0.21637266666666666 for 19 rounds\n",
      "6 0.8 1 0.5 reg:squarederror\n",
      "logloss 0.21766433333333335 for 13 rounds\n",
      "6 0.8 1 1 reg:logistic\n",
      "logloss 0.21644733333333332 for 19 rounds\n",
      "6 0.8 1 1 reg:squarederror\n",
      "logloss 0.2178663333333333 for 12 rounds\n",
      "6 0.8 5 0.5 reg:logistic\n",
      "logloss 0.21623566666666663 for 19 rounds\n",
      "6 0.8 5 0.5 reg:squarederror\n",
      "logloss 0.21791366666666667 for 12 rounds\n",
      "6 0.8 5 1 reg:logistic\n",
      "logloss 0.21617899999999998 for 19 rounds\n",
      "6 0.8 5 1 reg:squarederror\n",
      "logloss 0.217351 for 13 rounds\n",
      "Best params:  (6, 0.8, 5, 1, 'reg:logistic') 0.21617899999999998\n"
     ]
    }
   ],
   "source": [
    "# read datasets\n",
    "# for Hyper Tuning we will only take 10% of data\n",
    "dtrain = xgb.DMatrix(data_train.iloc[:600000], labels_train[:600000])\n",
    "\n",
    "min_logloss = float(\"Inf\")\n",
    "\n",
    "grid_param = [(max_depth,subsample,colsample_bytree,lambdaa,alpha,objective) \n",
    "              for max_depth in (4,6) for subsample in (0.7,0.8) for lambdaa in (1,5) for alpha in (0.5,1) for objective in ('reg:logistic','reg:squarederror')]\n",
    "\n",
    "for max_depth,subsample,colsample_bytree,lambdaa,alpha,objective in grid_param:\n",
    "    \n",
    "    xgb_params = {\n",
    "              'max_depth':max_depth,\n",
    "              'subsample':subsample,\n",
    "              'lambda':lambdaa, \n",
    "              'alpha':alpha, \n",
    "              'objective':objective}\n",
    "    cv_results = xgb.cv(xgb_params, \n",
    "                   dtrain, \n",
    "                   nfold=3,\n",
    "                   num_boost_round=20, # increase to have better results (~700)\n",
    "                   early_stopping_rounds=5,\n",
    "                    metrics={'logloss'},\n",
    "                   show_stdv=False\n",
    "                  )\n",
    "    mean_logloss = cv_results['test-logloss-mean'].min()\n",
    "    boost_rounds = cv_results['test-logloss-mean'].argmin()\n",
    "    print(max_depth,subsample,lambdaa,alpha,objective)\n",
    "    print(\"logloss {} for {} rounds\".format(mean_logloss, boost_rounds))\n",
    "    if mean_logloss < min_logloss:\n",
    "        min_logloss = mean_logloss\n",
    "        best_params = (max_depth,subsample,lambdaa,alpha,objective)\n",
    "print(\"Best params: \", best_params, min_logloss)"
   ]
  },
  {
   "cell_type": "markdown",
   "metadata": {},
   "source": [
    "## Gradient Boosting with Best Parameters"
   ]
  },
  {
   "cell_type": "code",
   "execution_count": 21,
   "metadata": {},
   "outputs": [
    {
     "name": "stdout",
     "output_type": "stream",
     "text": [
      "[09:40:53] WARNING: C:\\Users\\Administrator\\workspace\\xgboost-win64_release_1.0.0\\src\\gbm\\gbtree.cc:138: Tree method is automatically selected to be 'approx' for faster speed. To use old behavior (exact greedy algorithm on single machine), set tree_method to 'exact'.\n",
      "[0]\ttrain-logloss:0.51264\n",
      "[10]\ttrain-logloss:0.25106\n",
      "[20]\ttrain-logloss:0.24615\n",
      "[30]\ttrain-logloss:0.24483\n",
      "[40]\ttrain-logloss:0.24402\n",
      "[50]\ttrain-logloss:0.24342\n",
      "[60]\ttrain-logloss:0.24294\n",
      "[70]\ttrain-logloss:0.24246\n",
      "[80]\ttrain-logloss:0.24211\n",
      "[90]\ttrain-logloss:0.24173\n",
      "[100]\ttrain-logloss:0.24138\n",
      "[110]\ttrain-logloss:0.24107\n",
      "[119]\ttrain-logloss:0.24082\n",
      "Confusion Matrix :  [[2002171  296900]\n",
      " [  97654  150317]]\n"
     ]
    },
    {
     "data": {
      "image/png": "[encoded data removed]",
      "text/plain": [
       "<Figure size 432x288 with 2 Axes>"
      ]
     },
     "metadata": {},
     "output_type": "display_data"
    },
    {
     "name": "stdout",
     "output_type": "stream",
     "text": [
      "F1 score :  0.4324499272139335\n"
     ]
    }
   ],
   "source": [
    "xgb_params = {\n",
    "    \"objective\"         : \"reg:logistic\"\n",
    "    ,\"eval_metric\"      : \"logloss\"\n",
    "    ,\"max_depth\"        : 6\n",
    "    ,\"subsample\"        :0.8\n",
    "    ,\"colsample_bytree\" :0.8\n",
    "    ,\"alpha\"            :5\n",
    "    ,\"lambda\"           :1\n",
    "}\n",
    "num_round = 120\n",
    "\n",
    "d_train = xgb.DMatrix(X_train, y_train)\n",
    "watchlist= [(d_train, \"train\")]\n",
    "bst = xgb.train(params= xgb_params, dtrain=d_train, num_boost_round=num_round, evals=watchlist,verbose_eval = 10)\n",
    "pred_Xcv = bst.predict(xgb.DMatrix(X_cv))\n",
    "pred_Xcv = [True if i >=0.16 else False for i in pred_Xcv]\n",
    "print(\"Confusion Matrix : \", confusion_matrix(y_cv, pred_Xcv))\n",
    "df_cm = pd.DataFrame(confusion_matrix(y_cv, pred_Xcv), ['Pred_0','Pred_1'], ['Actual_0','Actual_1'])\n",
    "# plt.figure(figsize=(10,7))\n",
    "sn.set(font_scale=1) # for label size\n",
    "sn.heatmap(df_cm, annot=True, annot_kws={\"size\": 12}) # font size\n",
    "\n",
    "plt.show()\n",
    "print(\"F1 score : \", f1_score(y_cv, pred_Xcv))"
   ]
  }
 ],
 "metadata": {
  "kernelspec": {
   "display_name": "Python 3",
   "language": "python",
   "name": "python3"
  },
  "language_info": {
   "codemirror_mode": {
    "name": "ipython",
    "version": 3
   },
   "file_extension": ".py",
   "mimetype": "text/x-python",
   "name": "python",
   "nbconvert_exporter": "python",
   "pygments_lexer": "ipython3",
   "version": "3.6.6"
  }
 },
 "nbformat": 4,
 "nbformat_minor": 4
}
